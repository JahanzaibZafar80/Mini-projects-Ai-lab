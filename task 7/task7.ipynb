{
 "cells": [
  {
   "cell_type": "markdown",
   "id": "cd6740e5",
   "metadata": {},
   "source": [
    "# without priority"
   ]
  },
  {
   "cell_type": "code",
   "execution_count": 1,
   "id": "5018dbf4",
   "metadata": {},
   "outputs": [
    {
     "name": "stdout",
     "output_type": "stream",
     "text": [
      " Invalid start or goal node! Please enter correct node names.\n",
      "None\n"
     ]
    }
   ],
   "source": [
    "Graph_nodes = {\n",
    "    \"a\": [(\"b\",6),(\"f\",3)],\n",
    "    \"b\": [(\"c\",3),(\"d\",2)],\n",
    "    \"c\": [(\"d\",1),(\"e\",5)],\n",
    "    \"d\": [(\"c\",1),(\"e\",8)],\n",
    "    \"e\": [(\"i\",5),(\"j\",5)],\n",
    "    \"f\": [(\"g\",1),(\"h\",7)],\n",
    "    \"g\": [(\"i\",3)],\n",
    "    \"h\": [(\"i\",3)],\n",
    "    \"i\": [(\"e\",5),(\"j\",3)]\n",
    "}\n",
    "def get_nodes(v):\n",
    "    return Graph_nodes.get(v, [])\n",
    "def h(n):\n",
    "    h_distance = {\n",
    "        \"a\": 10, \"b\": 8, \"c\": 5, \"d\": 7,\n",
    "        \"e\": 3, \"f\": 6, \"g\": 5, \"h\": 3,\n",
    "        \"i\": 1, \"j\": 0\n",
    "    }\n",
    "    return h_distance.get(n, float('inf'))\n",
    "def node_exists(node):\n",
    "    if node in Graph_nodes:\n",
    "        return True\n",
    "    for neighbours in Graph_nodes.values():\n",
    "        for (n, _) in neighbours:\n",
    "            if n == node:\n",
    "                return True\n",
    "    return False\n",
    "def astar(start_node, end_node):\n",
    "    if not node_exists(start_node) or not node_exists(end_node):\n",
    "        print(\" Invalid start or goal node! Please enter correct node names.\")\n",
    "        return None\n",
    "    open_set = set([start_node])\n",
    "    close_set = set()\n",
    "    g = {start_node: 0}\n",
    "    parents = {start_node: start_node}\n",
    "    while open_set:\n",
    "        n = min(open_set, key=lambda x: g[x] + h(x))\n",
    "        if n == end_node:\n",
    "            path = []\n",
    "            while parents[n] != n:\n",
    "                path.append(n)\n",
    "                n = parents[n]\n",
    "            path.append(start_node)\n",
    "            path.reverse()\n",
    "            print(\"Path found:\", path)\n",
    "            return path\n",
    "        for (m, weight) in get_nodes(n):\n",
    "            if m not in open_set and m not in close_set:\n",
    "                open_set.add(m)\n",
    "                parents[m] = n\n",
    "                g[m] = g[n] + weight\n",
    "            else:\n",
    "                if g.get(m, float('inf')) > g[n] + weight:\n",
    "                    g[m] = g[n] + weight\n",
    "                    parents[m] = n\n",
    "                    if m in close_set:\n",
    "                        close_set.remove(m)\n",
    "                        open_set.add(m)\n",
    "        open_set.remove(n)\n",
    "        close_set.add(n)\n",
    "    print(\"Path does not exist!\")\n",
    "    return None\n",
    "\n",
    "print(astar(\"a\",\"r\"))  \n"
   ]
  },
  {
   "cell_type": "markdown",
   "id": "35f80e31",
   "metadata": {},
   "source": [
    "# pirority queue "
   ]
  },
  {
   "cell_type": "code",
   "execution_count": 2,
   "id": "c4362f67",
   "metadata": {},
   "outputs": [
    {
     "name": "stdout",
     "output_type": "stream",
     "text": [
      "Path found: ['a', 'f', 'g', 'i', 'j']\n",
      "['a', 'f', 'g', 'i', 'j']\n"
     ]
    }
   ],
   "source": [
    "import heapq\n",
    "Graph_nodes = {\n",
    "    \"a\": [(\"b\",6),(\"f\",3)],\n",
    "    \"b\": [(\"c\",3),(\"d\",2)],\n",
    "    \"c\": [(\"d\",1),(\"e\",5)],\n",
    "    \"d\": [(\"c\",1),(\"e\",8)],\n",
    "    \"e\": [(\"i\",5),(\"j\",5)],\n",
    "    \"f\": [(\"g\",1),(\"h\",7)],\n",
    "    \"g\": [(\"i\",3)],\n",
    "    \"h\": [(\"i\",3)],\n",
    "    \"i\": [(\"e\",5),(\"j\",3)]\n",
    "}\n",
    "def get_nodes(v):\n",
    "    return Graph_nodes.get(v, [])\n",
    "def h(n):\n",
    "    h_distance = {\n",
    "        \"a\": 10, \"b\": 8, \"c\": 5, \"d\": 7,\n",
    "        \"e\": 3, \"f\": 6, \"g\": 5, \"h\": 3,\n",
    "        \"i\": 1, \"j\": 0\n",
    "    }\n",
    "    return h_distance.get(n, float('inf'))\n",
    "def node_exists(node):\n",
    "    if node in Graph_nodes:\n",
    "        return True\n",
    "    for neighbours in Graph_nodes.values():\n",
    "        for (n, _) in neighbours:\n",
    "            if n == node:\n",
    "                return True\n",
    "    return False\n",
    "def astar_priority(start_node, end_node):\n",
    "    if not node_exists(start_node) or not node_exists(end_node):\n",
    "        print(\"Invalid start or goal node! Please enter correct node names.\")\n",
    "        return None\n",
    "    open_queue = []\n",
    "    heapq.heappush(open_queue, (0, start_node))\n",
    "    g = {start_node: 0}\n",
    "    parents = {start_node: None}\n",
    "    closed = set()\n",
    "    while open_queue:\n",
    "        f_val, current = heapq.heappop(open_queue)\n",
    "        if current in closed:\n",
    "            continue\n",
    "        closed.add(current)\n",
    "        if current == end_node:\n",
    "            path = []\n",
    "            while current is not None:\n",
    "                path.append(current)\n",
    "                current = parents[current]\n",
    "            path.reverse()\n",
    "            print(\"Path found:\", path)\n",
    "            return path\n",
    "        for (neighbor, weight) in get_nodes(current):\n",
    "            tentative_g = g[current] + weight\n",
    "            if tentative_g < g.get(neighbor, float('inf')):\n",
    "                g[neighbor] = tentative_g\n",
    "                f_neighbor = tentative_g + h(neighbor)\n",
    "                parents[neighbor] = current\n",
    "                heapq.heappush(open_queue, (f_neighbor, neighbor))\n",
    "    print(\"Path does not exist!\")\n",
    "    return None\n",
    "print(astar_priority(\"a\", \"j\"))  \n",
    "\n"
   ]
  }
 ],
 "metadata": {
  "kernelspec": {
   "display_name": "Python 3",
   "language": "python",
   "name": "python3"
  },
  "language_info": {
   "codemirror_mode": {
    "name": "ipython",
    "version": 3
   },
   "file_extension": ".py",
   "mimetype": "text/x-python",
   "name": "python",
   "nbconvert_exporter": "python",
   "pygments_lexer": "ipython3",
   "version": "3.13.1"
  }
 },
 "nbformat": 4,
 "nbformat_minor": 5
}
